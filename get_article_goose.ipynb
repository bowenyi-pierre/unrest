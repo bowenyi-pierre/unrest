{
 "cells": [
  {
   "cell_type": "code",
   "execution_count": 2,
   "metadata": {},
   "outputs": [],
   "source": [
    "from goose3 import Goose"
   ]
  },
  {
   "cell_type": "code",
   "execution_count": 47,
   "metadata": {},
   "outputs": [],
   "source": [
    "url = \"https://www.sciencedirect.com/science/article/pii/S221209632200078X?via%3Dihub\"\n",
    "headers = {\n",
    "    'User-Agent': \"Mozilla/5.0 (Macintosh; Intel Mac OS X 10.15; rv:128.0) Gecko/20100101 Firefox/128.0\",\n",
    "    'Accept-Encoding': 'gzip, deflate, br, zstd',\n",
    "    'Accept': 'image/avif,image/webp,image/png,image/svg+xml,image/*;q=0.8,*/*;q=0.5',\n",
    "    # 'Accept-Charset': 'ISO-8859-1,utf-8;q=0.7,*;q=0.3',\n",
    "    'Host': 'cdn.plu.mx',\n",
    "    'Referer': 'https://www.sciencedirect.com/',\n",
    "    'Accept-Language': 'en-US,en;q=0.5',\n",
    "    'Connection': 'keep-alive'\n",
    "}"
   ]
  },
  {
   "cell_type": "code",
   "execution_count": 49,
   "metadata": {},
   "outputs": [],
   "source": [
    "g = Goose({'browser_user_agent': 'Mozilla', 'strict': False, \"http_headers\": headers})\n",
    "\n"
   ]
  },
  {
   "cell_type": "code",
   "execution_count": 50,
   "metadata": {},
   "outputs": [],
   "source": [
    "article = g.extract(url=url)"
   ]
  },
  {
   "cell_type": "code",
   "execution_count": 2,
   "metadata": {},
   "outputs": [
    {
     "name": "stdout",
     "output_type": "stream",
     "text": [
      "Title: Climate-driven risks to peace over the 21st century - ScienceDirect\n",
      "Couldn't find the main content. The XPath might need adjustment.\n"
     ]
    }
   ],
   "source": [
    "from selenium import webdriver\n",
    "from selenium.webdriver.firefox.service import Service as FirefoxService\n",
    "from webdriver_manager.firefox import GeckoDriverManager\n",
    "from selenium.webdriver.common.by import By\n",
    "from selenium.webdriver.support.ui import WebDriverWait\n",
    "from selenium.webdriver.support import expected_conditions as EC\n",
    "\n",
    "# Setup the Firefox driver\n",
    "service = FirefoxService(GeckoDriverManager().install())\n",
    "driver = webdriver.Firefox(service=service)\n",
    "\n",
    "# The URL of the paper\n",
    "url = \"https://www.sciencedirect.com/science/article/pii/S221209632200078X?via%3Dihub\"\n",
    "\n",
    "# Navigate to the page\n",
    "driver.get(url)\n",
    "\n",
    "# Wait for the title to be present (adjust timeout as needed)\n",
    "wait = WebDriverWait(driver, 10)\n",
    "title_element = wait.until(EC.presence_of_element_located((By.TAG_NAME, \"title\")))\n",
    "\n",
    "# Get the title\n",
    "title = title_element.get_attribute(\"textContent\")\n",
    "print(f\"Title: {title}\")\n",
    "\n",
    "# Get the main content (this XPath might need adjustment based on the page structure)\n",
    "try:\n",
    "    content_element = driver.find_element(By.XPATH, \"//div[contains(@class, 'article-content')]\")\n",
    "    content = content_element.text\n",
    "    print(f\"Content: {content[:500]}...\") # Print first 500 characters\n",
    "except:\n",
    "    print(\"Couldn't find the main content. The XPath might need adjustment.\")\n",
    "\n",
    "# Close the browser\n",
    "driver.quit()"
   ]
  },
  {
   "cell_type": "code",
   "execution_count": 45,
   "metadata": {},
   "outputs": [
    {
     "name": "stdout",
     "output_type": "stream",
     "text": [
      "\n"
     ]
    }
   ],
   "source": [
    "print(article.meta_description)"
   ]
  },
  {
   "cell_type": "code",
   "execution_count": 46,
   "metadata": {},
   "outputs": [
    {
     "name": "stdout",
     "output_type": "stream",
     "text": [
      "\n"
     ]
    }
   ],
   "source": [
    "print(article.cleaned_text)"
   ]
  },
  {
   "cell_type": "code",
   "execution_count": null,
   "metadata": {},
   "outputs": [],
   "source": []
  }
 ],
 "metadata": {
  "kernelspec": {
   "display_name": "base",
   "language": "python",
   "name": "python3"
  },
  "language_info": {
   "codemirror_mode": {
    "name": "ipython",
    "version": 3
   },
   "file_extension": ".py",
   "mimetype": "text/x-python",
   "name": "python",
   "nbconvert_exporter": "python",
   "pygments_lexer": "ipython3",
   "version": "3.11.4"
  }
 },
 "nbformat": 4,
 "nbformat_minor": 2
}
